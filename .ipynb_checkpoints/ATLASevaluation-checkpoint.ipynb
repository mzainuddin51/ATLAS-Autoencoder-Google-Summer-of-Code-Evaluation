{
 "cells": [
  {
   "cell_type": "markdown",
   "metadata": {},
   "source": [
    "In this notebook, we will preprocess the given file for the task and then run the autoencoder to perform dimensionality reduction."
   ]
  },
  {
   "cell_type": "markdown",
   "metadata": {},
   "source": [
    "## Look into the dataset"
   ]
  },
  {
   "cell_type": "markdown",
   "metadata": {},
   "source": [
    "Loading the given data file and saving it after extracting useful data."
   ]
  },
  {
   "cell_type": "code",
   "execution_count": 1,
   "metadata": {},
   "outputs": [],
   "source": [
    "from csv import reader,writer\n",
    "\n",
    "#Create new data file to store processed data for training\n",
    "with open('extractJets.csv', 'a', newline='') as f_object: \n",
    "    writer(f_object).writerow([\"pt\",\"eta\",\"phi\",\"m\"])\n",
    "\n",
    "with open('./data.csv', 'r') as read_obj:\n",
    "    csv_reader = reader(read_obj)\n",
    "#   Read data on row by row basis\n",
    "    for row in csv_reader:\n",
    "        for i in range(4,len(row),4):\n",
    "#           Check if it is a jet particle. If yes, then add to dataset\n",
    "            if('j' in row[i]):\n",
    "                row[i], *_ = row[i].partition(';')\n",
    "                with open('extractJets.csv', 'a', newline='') as f_object: \n",
    "                    writer_object = writer(f_object) \n",
    "                    writer_object.writerow(row[i-3:i+1]) \n",
    "                    f_object.close()"
   ]
  },
  {
   "cell_type": "code",
   "execution_count": 2,
   "metadata": {},
   "outputs": [
    {
     "name": "stdout",
     "output_type": "stream",
     "text": [
      "Training sample:\n",
      "             pt       eta       phi         m\n",
      "16028  0.067739  0.093866  0.410113  0.185391\n",
      "4395   0.133575  0.048781  0.265619  0.017063\n",
      "13101  0.185925  0.162865  0.671072  0.233792\n",
      "2578   0.133303  0.177378  0.617986  0.644592\n",
      "13724  0.099197  0.188893  0.559642  0.096026\n",
      "\n",
      "\n",
      "Testing sample:\n",
      "             pt       eta       phi         m\n",
      "5426   0.119523  0.166930  0.611878  0.340523\n",
      "8583   0.039201  0.017252  0.309096  0.835562\n",
      "12309  0.013649  0.024880  0.564555  0.435482\n",
      "3599   0.188569  0.366296  0.463032  0.966026\n",
      "1247   0.209072  0.157122  0.332110  0.853213\n",
      "\n",
      "\n",
      "The number of entries in the training data: 13167\n",
      "The number of entries in the validation data: 3292\n",
      "Total data is:  16459\n"
     ]
    }
   ],
   "source": [
    "import pandas as pd\n",
    "import numpy as np\n",
    "from sklearn import preprocessing\n",
    "from sklearn.model_selection import train_test_split\n",
    "\n",
    "# Path to parsed dataset\n",
    "data_path = './extractJets.csv'\n",
    "\n",
    "# Load the data into datframe\n",
    "unprocessed_df = pd.read_csv(data_path)\n",
    "\n",
    "# Normalise the data\n",
    "scaler = preprocessing.MinMaxScaler()\n",
    "names = unprocessed_df.columns\n",
    "d = scaler.fit_transform(unprocessed_df)\n",
    "df = pd.DataFrame(d, columns=names)\n",
    "\n",
    "# Split the data into train and test sets\n",
    "train, test = train_test_split(df, test_size=0.2, random_state=42, shuffle=True)\n",
    "\n",
    "# To get an idea of the order of magnitude we are going to see in the plots we show the first elements \n",
    "# in the samples:\n",
    "print('Training sample:')\n",
    "print(train.head())\n",
    "\n",
    "print('\\n')\n",
    "\n",
    "print('Testing sample:')\n",
    "print(test.head())\n",
    "\n",
    "print('\\n')\n",
    "\n",
    "print('The number of entries in the training data:', len(train))\n",
    "print('The number of entries in the validation data:', len(test))\n",
    "# Confirming no loss of data during the split\n",
    "print('Total data is: ', len(train) + len(test))"
   ]
  },
  {
   "cell_type": "markdown",
   "metadata": {},
   "source": [
    "Now we plot the data using the matplotlib library. The units reflect the normalization, but it's the shape that we care about. "
   ]
  },
  {
   "cell_type": "code",
   "execution_count": 3,
   "metadata": {},
   "outputs": [
    {
     "data": {
      "image/png": "[encoded data removed]",
      "text/plain": [
       "<Figure size 432x288 with 1 Axes>"
      ]
     },
     "metadata": {
      "needs_background": "light"
     },
     "output_type": "display_data"
    },
    {
     "data": {
      "image/png": "[encoded data removed]",
      "text/plain": [
       "<Figure size 432x288 with 1 Axes>"
      ]
     },
     "metadata": {
      "needs_background": "light"
     },
     "output_type": "display_data"
    },
    {
     "data": {
      "image/png": "[encoded data removed]",
      "text/plain": [
       "<Figure size 432x288 with 1 Axes>"
      ]
     },
     "metadata": {
      "needs_background": "light"
     },
     "output_type": "display_data"
    },
    {
     "data": {
      "image/png": "[encoded data removed]",
      "text/plain": [
       "<Figure size 432x288 with 1 Axes>"
      ]
     },
     "metadata": {
      "needs_background": "light"
     },
     "output_type": "display_data"
    }
   ],
   "source": [
    "import matplotlib.pyplot as plt\n",
    "\n",
    "unit_list = ['[log(GeV)]', '[rad/3]', '[rad/3]', '[log(GeV)]']\n",
    "variable_list = [r'$p_T$', r'$\\eta$', r'$\\phi$', r'$m$']\n",
    "\n",
    "branches=[\"pt\",\"eta\",\"phi\",\"m\"]\n",
    "\n",
    "n_bins = 100\n",
    "\n",
    "for kk in range(0,4):\n",
    "    n_hist_data, bin_edges, _ = plt.hist(train[branches[kk]], color='gray', label='Input', alpha=1, bins=n_bins)\n",
    "    plt.xlabel(xlabel=variable_list[kk] + ' ' + unit_list[kk])\n",
    "    plt.ylabel('# of events')\n",
    "    #plt.savefig(\"fourmomentum_\"+branches[kk],dpi=300)\n",
    "    plt.show()"
   ]
  },
  {
   "cell_type": "markdown",
   "metadata": {},
   "source": [
    "## Setting up the network"
   ]
  },
  {
   "cell_type": "markdown",
   "metadata": {},
   "source": [
    "### Preparing the data"
   ]
  },
  {
   "cell_type": "markdown",
   "metadata": {},
   "source": [
    "Adding the two datasets as TensorDatasets to PyTorch (also loading all other classes we'll need later)"
   ]
  },
  {
   "cell_type": "code",
   "execution_count": 4,
   "metadata": {},
   "outputs": [],
   "source": [
    "import torch\n",
    "import torch.nn as nn\n",
    "import torch.optim as optim\n",
    "import torch.utils.data\n",
    "from torch.autograd import Variable\n",
    "\n",
    "from torch.utils.data import TensorDataset\n",
    "from torch.utils.data import DataLoader\n",
    "\n",
    "from fastai import learner\n",
    "from fastai.data import core\n",
    "\n",
    "train_x = train\n",
    "test_x = test\n",
    "train_y = train_x  # y = x since we are building an autoencoder\n",
    "test_y = test_x\n",
    "\n",
    "# Constructs a tensor object of the data and wraps them in a TensorDataset object.\n",
    "train_ds = TensorDataset(torch.tensor(train_x.values, dtype=torch.float), torch.tensor(train_y.values, dtype=torch.float))\n",
    "valid_ds = TensorDataset(torch.tensor(test_x.values, dtype=torch.float), torch.tensor(test_y.values, dtype=torch.float))"
   ]
  },
  {
   "cell_type": "markdown",
   "metadata": {},
   "source": [
    "We now set things up to load the data, and I have modified the batch size to achieve better performance."
   ]
  },
  {
   "cell_type": "code",
   "execution_count": 5,
   "metadata": {},
   "outputs": [],
   "source": [
    "bs = 64\n",
    "\n",
    "# Converts the TensorDataset into a DataLoader object and combines into one DataLoaders object (a basic wrapper\n",
    "# around several DataLoader objects). \n",
    "train_dl = DataLoader(train_ds, batch_size=bs, shuffle=True)\n",
    "valid_dl = DataLoader(valid_ds, batch_size=bs * 2)\n",
    "dls = core.DataLoaders(train_dl, valid_dl)"
   ]
  },
  {
   "cell_type": "markdown",
   "metadata": {},
   "source": [
    "### Preparing the network"
   ]
  },
  {
   "cell_type": "markdown",
   "metadata": {},
   "source": [
    "Here we have an example network. Details aren't too important, as long as they match what was already trained for us...in this case we have a LeakyReLU, tanh activation function, and a number of layers that goes from 4 to 200 to 20 to 3 (number of features in the hidden layer that we pick for testing compression) and then back all the way to 4. "
   ]
  },
  {
   "cell_type": "code",
   "execution_count": 6,
   "metadata": {},
   "outputs": [
    {
     "data": {
      "text/plain": [
       "AE_3D_200_LeakyReLU(\n",
       "  (en1): Linear(in_features=4, out_features=200, bias=True)\n",
       "  (en2): Linear(in_features=200, out_features=200, bias=True)\n",
       "  (en3): Linear(in_features=200, out_features=20, bias=True)\n",
       "  (en4): Linear(in_features=20, out_features=3, bias=True)\n",
       "  (de1): Linear(in_features=3, out_features=20, bias=True)\n",
       "  (de2): Linear(in_features=20, out_features=200, bias=True)\n",
       "  (de3): Linear(in_features=200, out_features=200, bias=True)\n",
       "  (de4): Linear(in_features=200, out_features=4, bias=True)\n",
       "  (tanh): Tanh()\n",
       ")"
      ]
     },
     "execution_count": 6,
     "metadata": {},
     "output_type": "execute_result"
    }
   ],
   "source": [
    "class AE_3D_200_LeakyReLU(nn.Module):\n",
    "    def __init__(self, n_features=4):\n",
    "        super(AE_3D_200_LeakyReLU, self).__init__()\n",
    "        self.en1 = nn.Linear(n_features, 200)\n",
    "        self.en2 = nn.Linear(200, 200)\n",
    "        self.en3 = nn.Linear(200, 20)\n",
    "        self.en4 = nn.Linear(20, 3)\n",
    "        self.de1 = nn.Linear(3, 20)\n",
    "        self.de2 = nn.Linear(20, 200)\n",
    "        self.de3 = nn.Linear(200, 200)\n",
    "        self.de4 = nn.Linear(200, n_features)\n",
    "        self.tanh = nn.Tanh()\n",
    "\n",
    "    def encode(self, x):\n",
    "        return self.en4(self.tanh(self.en3(self.tanh(self.en2(self.tanh(self.en1(x)))))))\n",
    "\n",
    "    def decode(self, x):\n",
    "        return self.de4(self.tanh(self.de3(self.tanh(self.de2(self.tanh(self.de1(self.tanh(x))))))))\n",
    "\n",
    "    def forward(self, x):\n",
    "        z = self.encode(x)\n",
    "        return self.decode(z)\n",
    "\n",
    "    def describe(self):\n",
    "        return 'in-200-200-20-3-20-200-200-out'\n",
    "\n",
    "#model = AE_3D_200_LeakyReLU().double()\n",
    "model = AE_3D_200_LeakyReLU()\n",
    "model.to('cpu')"
   ]
  },
  {
   "cell_type": "markdown",
   "metadata": {},
   "source": [
    "We now have to pick a loss function - MSE loss is appropriate for a compression autoencoder since it reflects the [(input-output)/input] physical quantity that we want to minimize. "
   ]
  },
  {
   "cell_type": "code",
   "execution_count": 7,
   "metadata": {},
   "outputs": [],
   "source": [
    "from fastai.metrics import mse\n",
    "\n",
    "loss_func = nn.MSELoss()\n",
    "\n",
    "#bn_wd = False  # Don't use weight decay for batchnorm layers\n",
    "#true_wd = True  # weight decay will be used for all optimizers\n",
    "wd = 1e-6\n",
    "\n",
    "recorder = learner.Recorder()\n",
    "learn = learner.Learner(dls, model=model, wd=wd, loss_func=loss_func, cbs=recorder)\n",
    "#was: learn = basic_train.Learner(data=db, model=model, loss_func=loss_func, wd=wd, callback_fns=ActivationStats, bn_wd=bn_wd, true_wd=true_wd)"
   ]
  },
  {
   "cell_type": "markdown",
   "metadata": {},
   "source": [
    "## Alternative 1: Running a pre-trained network"
   ]
  },
  {
   "cell_type": "markdown",
   "metadata": {},
   "source": [
    "Now we load the pre-trained network. "
   ]
  },
  {
   "cell_type": "code",
   "execution_count": 8,
   "metadata": {},
   "outputs": [],
   "source": [
    "# learn.load(\"4D_TLA_leading\")"
   ]
  },
  {
   "cell_type": "markdown",
   "metadata": {},
   "source": [
    "Then we evaluate the MSE on this network - it should be of the order of 0.001 or less if all has gone well...if it has not trained as well (note the pesky 0-mass peak above...) then it's going to be a bit higher."
   ]
  },
  {
   "cell_type": "code",
   "execution_count": 9,
   "metadata": {},
   "outputs": [
    {
     "data": {
      "text/plain": [
       "(#1) [0.1381639540195465]"
      ]
     },
     "execution_count": 9,
     "metadata": {},
     "output_type": "execute_result"
    }
   ],
   "source": [
    "learn.validate()"
   ]
  },
  {
   "cell_type": "markdown",
   "metadata": {},
   "source": [
    "## Alternative 2: Training a new network"
   ]
  },
  {
   "cell_type": "markdown",
   "metadata": {},
   "source": [
    "Instead of using a pre-trained network, an alternative is to train a new network and use that instead. "
   ]
  },
  {
   "cell_type": "markdown",
   "metadata": {},
   "source": [
    "First, we want to find the best learning rate. The learning rate is a hyper-paramater that sets how much the weights of the network will change each step with respect to the loss gradient.\n",
    "\n",
    "Then we plot the loss versus the learning rates. We're interested in finding a good order of magnitude of learning rate, so we plot with a log scale.\n",
    "\n",
    "A good value for the learning rates is then either:\n",
    "- one tenth of the minimum before the divergence\n",
    "- when the slope is the steepest"
   ]
  },
  {
   "cell_type": "code",
   "execution_count": 10,
   "metadata": {},
   "outputs": [
    {
     "name": "stdout",
     "output_type": "stream",
     "text": [
      "Learning rate with the minimum loss: 0.002290867641568184\n",
      "Learning rate with the steepest gradient: 0.0003981071640737355\n"
     ]
    },
    {
     "data": {
      "image/png": "[encoded data removed]",
      "text/plain": [
       "<Figure size 432x288 with 1 Axes>"
      ]
     },
     "metadata": {
      "needs_background": "light"
     },
     "output_type": "display_data"
    }
   ],
   "source": [
    "from fastai.callback import schedule\n",
    "\n",
    "lr_min, lr_steep = learn.lr_find()\n",
    "\n",
    "print('Learning rate with the minimum loss:', lr_min)\n",
    "print('Learning rate with the steepest gradient:', lr_steep)"
   ]
  },
  {
   "cell_type": "markdown",
   "metadata": {},
   "source": [
    "Now we want to run the training!\n",
    "\n",
    "User-chosen variables:\n",
    "- n_epoch: The number of epochs, i.e how many times the to run through all of the training data once (i.e the 1266046 entries, see cell 2)\n",
    "- lr: The learning rate. Either choose lr_min, lr_steep from above or set your own.\n"
   ]
  },
  {
   "cell_type": "code",
   "execution_count": null,
   "metadata": {},
   "outputs": [
    {
     "name": "stdout",
     "output_type": "stream",
     "text": [
      "[0, 0.014552670530974865, 0.009458094835281372, '00:01']\n",
      "[0, 0.014552670530974865, 0.009458094835281372, '00:01']\n",
      "[1, 0.0016025796066969633, 0.001056070439517498, '00:01']\n",
      "[1, 0.0016025796066969633, 0.001056070439517498, '00:01']\n",
      "[2, 0.001001488883048296, 0.0009725525742396712, '00:01']\n",
      "[2, 0.001001488883048296, 0.0009725525742396712, '00:01']\n",
      "[3, 0.0010003655916079879, 0.0010681188432499766, '00:01']\n",
      "[3, 0.0010003655916079879, 0.0010681188432499766, '00:01']\n",
      "[4, 0.001037830370478332, 0.0008955596713349223, '00:01']\n",
      "[4, 0.001037830370478332, 0.0008955596713349223, '00:01']\n",
      "[5, 0.0009532425319775939, 0.0008032954065129161, '00:01']\n",
      "[5, 0.0009532425319775939, 0.0008032954065129161, '00:01']\n",
      "[6, 0.0006464013713411987, 0.00056809326633811, '00:01']\n",
      "[6, 0.0006464013713411987, 0.00056809326633811, '00:01']\n",
      "[7, 0.00047443341463804245, 0.0004884374211542308, '00:01']\n",
      "[7, 0.00047443341463804245, 0.0004884374211542308, '00:01']\n",
      "[8, 0.00039470187039114535, 0.0004840762121602893, '00:01']\n",
      "[8, 0.00039470187039114535, 0.0004840762121602893, '00:01']\n",
      "[9, 0.00038428118568845093, 0.00038299470907077193, '00:01']\n",
      "[9, 0.00038428118568845093, 0.00038299470907077193, '00:01']\n",
      "[10, 0.0003412541700527072, 0.00036552146775648, '00:01']\n",
      "[10, 0.0003412541700527072, 0.00036552146775648, '00:01']\n",
      "[11, 0.0002673232520464808, 0.00044237266411073506, '00:01']\n",
      "[11, 0.0002673232520464808, 0.00044237266411073506, '00:01']\n",
      "[12, 0.0002042462001554668, 0.0001862645149230957, '00:00']\n",
      "[12, 0.0002042462001554668, 0.0001862645149230957, '00:00']\n",
      "[13, 0.0001647808967391029, 0.00011010890011675656, '00:01']\n",
      "[13, 0.0001647808967391029, 0.00011010890011675656, '00:01']\n",
      "[14, 0.0001776209392119199, 0.0001339731679763645, '00:01']\n",
      "[14, 0.0001776209392119199, 0.0001339731679763645, '00:01']\n",
      "[15, 0.0002110777422785759, 0.0009245949331671, '00:01']\n",
      "[15, 0.0002110777422785759, 0.0009245949331671, '00:01']\n",
      "[16, 0.0002085472660837695, 0.0003196784236934036, '00:01']\n",
      "[16, 0.0002085472660837695, 0.0003196784236934036, '00:01']\n",
      "[17, 0.00017537662643007934, 6.036016930011101e-05, '00:01']\n",
      "[17, 0.00017537662643007934, 6.036016930011101e-05, '00:01']\n",
      "[18, 0.00016400952881667763, 8.024669659789652e-05, '00:01']\n",
      "[18, 0.00016400952881667763, 8.024669659789652e-05, '00:01']\n",
      "[19, 0.00012494923430494964, 5.023330231779255e-05, '00:01']\n",
      "[19, 0.00012494923430494964, 5.023330231779255e-05, '00:01']\n",
      "[20, 0.00013948429841548204, 0.000300775544019416, '00:01']\n",
      "[20, 0.00013948429841548204, 0.000300775544019416, '00:01']\n",
      "[21, 0.00011846573033835739, 0.00011705183715093881, '00:01']\n",
      "[21, 0.00011846573033835739, 0.00011705183715093881, '00:01']\n",
      "[22, 0.0001252553192898631, 7.969264697749168e-05, '00:01']\n",
      "[22, 0.0001252553192898631, 7.969264697749168e-05, '00:01']\n",
      "[23, 0.00012767926091328263, 7.665182056371123e-05, '00:01']\n",
      "[23, 0.00012767926091328263, 7.665182056371123e-05, '00:01']\n",
      "[24, 0.0001478877238696441, 0.00012525009515229613, '00:01']\n",
      "[24, 0.0001478877238696441, 0.00012525009515229613, '00:01']\n",
      "[25, 9.928445069817826e-05, 3.5462082450976595e-05, '00:01']\n",
      "[25, 9.928445069817826e-05, 3.5462082450976595e-05, '00:01']\n",
      "[26, 0.00011179465218447149, 6.933357508387417e-05, '00:01']\n",
      "[26, 0.00011179465218447149, 6.933357508387417e-05, '00:01']\n",
      "[27, 0.00012050275108776987, 0.00015606818487867713, '00:01']\n",
      "[27, 0.00012050275108776987, 0.00015606818487867713, '00:01']\n",
      "[28, 0.0001245470339199528, 0.0001148752635344863, '00:01']\n",
      "[28, 0.0001245470339199528, 0.0001148752635344863, '00:01']\n",
      "[29, 9.256602061213925e-05, 0.0001351316022919491, '00:01']\n",
      "[29, 9.256602061213925e-05, 0.0001351316022919491, '00:01']\n",
      "[30, 0.00010230470797978342, 5.9954094467684627e-05, '00:01']\n",
      "[30, 0.00010230470797978342, 5.9954094467684627e-05, '00:01']\n",
      "[31, 5.983649680274539e-05, 4.858003376284614e-05, '00:01']\n",
      "[31, 5.983649680274539e-05, 4.858003376284614e-05, '00:01']\n",
      "[32, 9.31161775952205e-05, 6.625658716075122e-05, '00:01']\n",
      "[32, 9.31161775952205e-05, 6.625658716075122e-05, '00:01']\n",
      "[33, 9.416339889867231e-05, 4.470761996344663e-05, '00:01']\n",
      "[33, 9.416339889867231e-05, 4.470761996344663e-05, '00:01']\n",
      "[34, 6.439507706090808e-05, 2.4705048417672515e-05, '00:01']\n",
      "[34, 6.439507706090808e-05, 2.4705048417672515e-05, '00:01']\n",
      "[35, 8.616227569291368e-05, 4.286046532797627e-05, '00:01']\n",
      "[35, 8.616227569291368e-05, 4.286046532797627e-05, '00:01']\n",
      "[36, 4.152887049713172e-05, 3.9585738704772666e-05, '00:01']\n",
      "[36, 4.152887049713172e-05, 3.9585738704772666e-05, '00:01']\n",
      "[37, 4.864337097387761e-05, 6.794806540710852e-05, '00:01']\n",
      "[37, 4.864337097387761e-05, 6.794806540710852e-05, '00:01']\n",
      "[38, 4.814743442693725e-05, 6.127504457253963e-05, '00:01']\n",
      "[38, 4.814743442693725e-05, 6.127504457253963e-05, '00:01']\n",
      "[39, 0.00010225032747257501, 0.0002969666966237128, '00:01']\n",
      "[39, 0.00010225032747257501, 0.0002969666966237128, '00:01']\n",
      "[40, 3.591853965190239e-05, 4.966122651239857e-05, '00:01']\n",
      "[40, 3.591853965190239e-05, 4.966122651239857e-05, '00:01']\n",
      "[41, 5.145303293829784e-05, 2.9526621801778674e-05, '00:01']\n",
      "[41, 5.145303293829784e-05, 2.9526621801778674e-05, '00:01']\n",
      "[42, 3.868552448693663e-05, 6.438166019506752e-05, '00:01']\n",
      "[42, 3.868552448693663e-05, 6.438166019506752e-05, '00:01']\n",
      "[43, 3.824759551207535e-05, 2.618536018417217e-05, '00:01']\n",
      "[43, 3.824759551207535e-05, 2.618536018417217e-05, '00:01']\n",
      "[44, 3.416945764911361e-05, 3.39477373927366e-05, '00:01']\n",
      "[44, 3.416945764911361e-05, 3.39477373927366e-05, '00:01']\n",
      "[45, 3.536912117851898e-05, 1.748838258208707e-05, '00:01']\n",
      "[45, 3.536912117851898e-05, 1.748838258208707e-05, '00:01']\n",
      "[46, 3.9241440390469506e-05, 2.3946604414959438e-05, '00:01']\n",
      "[46, 3.9241440390469506e-05, 2.3946604414959438e-05, '00:01']\n"
     ]
    }
   ],
   "source": [
    "import time\n",
    "\n",
    "start = time.perf_counter() # Starts timer\n",
    "learn.fit_one_cycle(n_epoch=100, lr_max=lr_min)\n",
    "end = time.perf_counter() # Ends timer\n",
    "delta_t = end - start\n",
    "print('Training took', delta_t, 'seconds')"
   ]
  },
  {
   "cell_type": "markdown",
   "metadata": {},
   "source": [
    "Then we plot the loss as a function of batches and epochs to check if we reach a plateau."
   ]
  },
  {
   "cell_type": "code",
   "execution_count": 243,
   "metadata": {},
   "outputs": [
    {
     "data": {
      "image/png": "[encoded data removed]",
      "text/plain": [
       "<Figure size 432x288 with 1 Axes>"
      ]
     },
     "metadata": {
      "needs_background": "light"
     },
     "output_type": "display_data"
    }
   ],
   "source": [
    "recorder.plot_loss()"
   ]
  },
  {
   "cell_type": "markdown",
   "metadata": {},
   "source": [
    "Then we evaluate the MSE on this network - it should be of the order of 0.001 or less if all has gone well...if it has not trained as well (note the pesky 0-mass peak above...) then it's going to be a bit higher."
   ]
  },
  {
   "cell_type": "code",
   "execution_count": 244,
   "metadata": {},
   "outputs": [
    {
     "data": {
      "text/plain": [
       "(#1) [6.181790013215505e-07]"
      ]
     },
     "execution_count": 244,
     "metadata": {},
     "output_type": "execute_result"
    }
   ],
   "source": [
    "learn.validate()"
   ]
  },
  {
   "cell_type": "markdown",
   "metadata": {},
   "source": [
    "Let's plot all of this, with ratios (thanks to code by Erik Wallin)"
   ]
  },
  {
   "cell_type": "markdown",
   "metadata": {},
   "source": [
    "## Plotting the outputs of the network"
   ]
  },
  {
   "cell_type": "markdown",
   "metadata": {},
   "source": [
    "Lazy-save of our output files (they'll also be on screen)"
   ]
  },
  {
   "cell_type": "code",
   "execution_count": 245,
   "metadata": {},
   "outputs": [],
   "source": [
    "import os\n",
    "save_dir = \"plotOutput\"\n",
    "if not os.path.exists(save_dir):\n",
    "    os.makedirs(save_dir)"
   ]
  },
  {
   "cell_type": "markdown",
   "metadata": {},
   "source": [
    "A function in case we want to un-normalize and get back to physical quantities..."
   ]
  },
  {
   "cell_type": "code",
   "execution_count": 246,
   "metadata": {},
   "outputs": [],
   "source": [
    "def custom_unnormalize(df):\n",
    "    df['eta'] = df['eta'] * 5\n",
    "    df['phi'] = df['phi'] * 3\n",
    "    #df['E'] = 10**df['E']\n",
    "    df['m'] = 10**df['m']\n",
    "    df['pt'] = 10**(df['pt'])\n",
    "    return df"
   ]
  },
  {
   "cell_type": "markdown",
   "metadata": {},
   "source": [
    "Make the histograms from the dataset..."
   ]
  },
  {
   "cell_type": "code",
   "execution_count": 247,
   "metadata": {},
   "outputs": [
    {
     "data": {
      "image/png": "[encoded data removed]",
      "text/plain": [
       "<Figure size 432x288 with 1 Axes>"
      ]
     },
     "metadata": {
      "needs_background": "light"
     },
     "output_type": "display_data"
    },
    {
     "data": {
      "image/png": "[encoded data removed]",
      "text/plain": [
       "<Figure size 432x288 with 1 Axes>"
      ]
     },
     "metadata": {
      "needs_background": "light"
     },
     "output_type": "display_data"
    },
    {
     "data": {
      "image/png": "[encoded data removed]",
      "text/plain": [
       "<Figure size 432x288 with 1 Axes>"
      ]
     },
     "metadata": {
      "needs_background": "light"
     },
     "output_type": "display_data"
    },
    {
     "data": {
      "image/png": "[encoded data removed]",
      "text/plain": [
       "<Figure size 432x288 with 1 Axes>"
      ]
     },
     "metadata": {
      "needs_background": "light"
     },
     "output_type": "display_data"
    }
   ],
   "source": [
    "import numpy as np\n",
    "\n",
    "plt.close('all')\n",
    "unit_list = ['[GeV]', '[rad]', '[rad]', '[GeV]']\n",
    "variable_list = [r'$p_T$', r'$\\eta$', r'$\\phi$', r'$E$']\n",
    "line_style = ['--', '-']\n",
    "colors = ['orange', 'c']\n",
    "markers = ['*', 's']\n",
    "\n",
    "model.to('cpu')\n",
    "\n",
    "save = False # Option to save figure\n",
    "\n",
    "# Histograms\n",
    "idxs = (0, 100000)  # Choose events to compare\n",
    "data = torch.tensor(test[idxs[0]:idxs[1]].values, dtype=torch.float)\n",
    "#data = torch.tensor(test[idxs[0]:idxs[1]].values, dtype=torch.float).double()\n",
    "pred = model(data)\n",
    "pred = pred.detach().numpy()\n",
    "data = data.detach().numpy()\n",
    "\n",
    "data_df = pd.DataFrame(data, columns=test.columns)\n",
    "pred_df = pd.DataFrame(pred, columns=test.columns)\n",
    "\n",
    "unnormalized_data_df = custom_unnormalize(data_df)\n",
    "unnormalized_pred_df = custom_unnormalize(pred_df)    \n",
    "    \n",
    "alph = 0.8\n",
    "n_bins = 200\n",
    "for kk in np.arange(4):\n",
    "    plt.figure()\n",
    "    n_hist_data, bin_edges, _ = plt.hist(data[:, kk], color=colors[1], label='Input', alpha=1, bins=n_bins)\n",
    "    n_hist_pred, _, _ = plt.hist(pred[:, kk], color=colors[0], label='Output', alpha=alph, bins=bin_edges)\n",
    "    plt.suptitle(test.columns[kk])\n",
    "    plt.xlabel(test.columns[kk])\n",
    "    plt.ylabel('Number of events')\n",
    "    # ms.sciy()\n",
    "    plt.yscale('log')\n",
    "    if save:\n",
    "        plt.savefig(os.path.join(save_dir,test.columns[kk]+'.png'))\n",
    "    plt.legend()"
   ]
  },
  {
   "cell_type": "code",
   "execution_count": 240,
   "metadata": {},
   "outputs": [],
   "source": [
    "def getRatio(bin1,bin2):\n",
    "    bins = []\n",
    "    for b1,b2 in zip(bin1,bin2):\n",
    "        if b1==0 and b2==0:\n",
    "            bins.append(0.)\n",
    "        elif b2==0:\n",
    "            bins.append(None)\n",
    "        else:\n",
    "            bins.append((float(b2)-float(b1))/b1)\n",
    "    return bins   \n",
    "\n",
    "rat = getRatio(n_hist_data,n_hist_pred)\n",
    "#print(rat)"
   ]
  },
  {
   "cell_type": "code",
   "execution_count": null,
   "metadata": {},
   "outputs": [],
   "source": []
  }
 ],
 "metadata": {
  "kernelspec": {
   "display_name": "Python 3",
   "language": "python",
   "name": "python3"
  },
  "language_info": {
   "codemirror_mode": {
    "name": "ipython",
    "version": 3
   },
   "file_extension": ".py",
   "mimetype": "text/x-python",
   "name": "python",
   "nbconvert_exporter": "python",
   "pygments_lexer": "ipython3",
   "version": "3.9.1"
  }
 },
 "nbformat": 4,
 "nbformat_minor": 4
}
